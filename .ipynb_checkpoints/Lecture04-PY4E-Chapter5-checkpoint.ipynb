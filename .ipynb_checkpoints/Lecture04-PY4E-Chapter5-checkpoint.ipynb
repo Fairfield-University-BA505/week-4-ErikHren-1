{
 "cells": [
  {
   "cell_type": "markdown",
   "metadata": {
    "slideshow": {
     "slide_type": "slide"
    }
   },
   "source": [
    "![DSB Logo](img/Dolan.jpg)\n",
    "# Python Essentials: Iterations\n",
    "## PY4E Chapter 5\n",
    "### What you must know about Python"
   ]
  },
  {
   "cell_type": "markdown",
   "metadata": {
    "slideshow": {
     "slide_type": "slide"
    }
   },
   "source": [
    "# Updating Variable Values\n",
    "\n",
    "- Do you remember from last week, the dice game?\n",
    "    - When we try to capture 10 rounds in a game, we have to run the function 10 times\n",
    "- Updating variable values is a common pattern in any program\n",
    "    - _ad hoc_ updating: reassign the value of a variable arbitrarily\n",
    "    - _systematic_ updating: updating the value according to some fixed pattern\n",
    "        - Updating a variable by adding 1 is called an _increment_; subtracting 1 is called a _decrement_\n"
   ]
  },
  {
   "cell_type": "code",
   "execution_count": 1,
   "metadata": {
    "slideshow": {
     "slide_type": "subslide"
    }
   },
   "outputs": [
    {
     "name": "stdout",
     "output_type": "stream",
     "text": [
      "3\n",
      "7\n"
     ]
    }
   ],
   "source": [
    "# ad hoc updating\n",
    "a = 1\n",
    "b = 2\n",
    "print(a + b)\n",
    "a = 3\n",
    "b = 4\n",
    "print(a + b)"
   ]
  },
  {
   "cell_type": "code",
   "execution_count": 3,
   "metadata": {
    "slideshow": {
     "slide_type": "subslide"
    }
   },
   "outputs": [
    {
     "name": "stdout",
     "output_type": "stream",
     "text": [
      "2\n",
      "3\n",
      "4\n",
      "5\n",
      "6\n"
     ]
    }
   ],
   "source": [
    "# systematic updating\n",
    "a = 1 \n",
    "b = 1\n",
    "print(a + b)\n",
    "a = 2\n",
    "print(a + b)\n",
    "a = 3\n",
    "print(a + b)\n",
    "a = 4\n",
    "print(a + b)\n",
    "a = 5\n",
    "print(a + b)"
   ]
  },
  {
   "cell_type": "markdown",
   "metadata": {
    "slideshow": {
     "slide_type": "slide"
    }
   },
   "source": [
    "# While Loop\n",
    "\n",
    "- Loops are not simple repetitions - they are iterations with _slight_ differences every time.\n",
    "    - This is a benefit of using computers - they do well in these tasks\n",
    "- `while` statements are a popular type of loop in Python (as well as in other languages)\n",
    "\n",
    "```python\n",
    "n=5\n",
    "while n > 0:\n",
    "print(n)\n",
    "n=n-1 print('Blastoff!')\n",
    "```\n",
    "\n",
    "> _Psuedo Code: While n is greater than 0, display the value of n and then reduce the value of n by 1. When you get to 0, exit the while statement and display the word Blastoff!"
   ]
  },
  {
   "cell_type": "code",
   "execution_count": 5,
   "metadata": {
    "slideshow": {
     "slide_type": "subslide"
    }
   },
   "outputs": [
    {
     "name": "stdout",
     "output_type": "stream",
     "text": [
      "5\n",
      "4\n",
      "3\n",
      "2\n",
      "1\n",
      "Blastoff!\n"
     ]
    }
   ],
   "source": [
    "# loop variable\n",
    "n=5\n",
    "\n",
    "while n > 0: # loop condition\n",
    "    # loop body\n",
    "    print(n)\n",
    "    # changes value of loop variable\n",
    "    n=n-1 \n",
    "print('Blastoff!')\n"
   ]
  },
  {
   "cell_type": "markdown",
   "metadata": {
    "slideshow": {
     "slide_type": "slide"
    }
   },
   "source": [
    "# While Loop Flow of Execution\n",
    "\n",
    "1. Evaluate the condition, yielding True or False.\n",
    "2. If the condition is false, exit the while statement and continue execution at the next statement.\n",
    "3. If the condition is true, execute the body and then go back to step 1.\n",
    "\n",
    "- We call this type of execution a _loop_, and each execution an _iteration_.\n",
    "    - So code above has __five__ iterations\n",
    "- Loop is controlled by a _loop variable_\n",
    "    - loop variable changes value every iteration (e.g. `n`)\n",
    "    - Until the condition become `False` (`n > 0`)"
   ]
  },
  {
   "cell_type": "markdown",
   "metadata": {
    "slideshow": {
     "slide_type": "slide"
    }
   },
   "source": [
    "# Infinite Loops\n",
    "\n",
    "- if there is no iteration variable, or the loop condition is always `True`, the loop will execute forever\n",
    "    - below is an example of infinite loop\n",
    "    \n",
    "```python\n",
    "# loop variable\n",
    "n=5\n",
    "\n",
    "while n > 0: # loop condition will always be true\n",
    "    # loop body\n",
    "    print(n)\n",
    "    # changes value of loop variable\n",
    "    # This creates the problem\n",
    "    n=n+1 \n",
    "# This will never be executed\n",
    "print('Blastoff!')\n",
    "```\n",
    "__NOTE:__ whenever write a loop, be careful about your loop variable and condition - to test if your programming logic is correct."
   ]
  },
  {
   "cell_type": "markdown",
   "metadata": {
    "slideshow": {
     "slide_type": "slide"
    }
   },
   "source": [
    "# How to Write Loops\n",
    "\n",
    "- To avoid infinite loops, there are several steps you need to take:\n",
    "    - Step 1: write the body of your iteration as an independent program first\n",
    "    - to test your loops, you should start with the beginning value, mid-point value, and the end value at least\n",
    "    \n",
    "```python\n",
    "line = input('> ') \n",
    "if line == 'done':\n",
    "    print(line)\n",
    "```\n"
   ]
  },
  {
   "cell_type": "code",
   "execution_count": 1,
   "metadata": {
    "slideshow": {
     "slide_type": "subslide"
    }
   },
   "outputs": [
    {
     "name": "stdout",
     "output_type": "stream",
     "text": [
      "> done\n",
      "done\n"
     ]
    }
   ],
   "source": [
    "line = input('> ') \n",
    "if line == 'done':\n",
    "    print(line)"
   ]
  },
  {
   "cell_type": "markdown",
   "metadata": {
    "slideshow": {
     "slide_type": "slide"
    }
   },
   "source": [
    "# How to Write Loops\n",
    "\n",
    "- To avoid infinite loops, there are several steps you need to take:\n",
    "    - Step 2: when body is tested, wisely use `break` statement to stop the loop prematurely\n",
    "    - you shoudl also trace every iteration in a loop\n",
    "\n",
    "```python\n",
    "while True:\n",
    "    line = input('> ') if line == 'done':\n",
    "    break # stop loop\n",
    "    print(line)\n",
    "print('Done!')\n",
    "```\n",
    "\n",
    "- This way, you can avoid _infinite loop_ from happening.\n",
    "    - you should always write `break` in your loops\n",
    "    - you should comment out the `break` statement when finished testing"
   ]
  },
  {
   "cell_type": "code",
   "execution_count": 5,
   "metadata": {
    "slideshow": {
     "slide_type": "subslide"
    }
   },
   "outputs": [
    {
     "name": "stdout",
     "output_type": "stream",
     "text": [
      "> hello python!\n",
      "> done\n",
      "Done!\n"
     ]
    }
   ],
   "source": [
    "while True:\n",
    "    line = input('> ') \n",
    "    if line == 'done':\n",
    "        break\n",
    "        print(line)\n",
    "print('Done!')"
   ]
  },
  {
   "cell_type": "markdown",
   "metadata": {
    "slideshow": {
     "slide_type": "slide"
    }
   },
   "source": [
    "# Finish Iteration with `continue`\n",
    "\n",
    "- Sometimes you may want to end the current iteration prematurely, and jump to next iteration\n",
    "    - In this case you can use `continue`\n",
    "    - Difference beteen `break` and `continue`:\n",
    "        - `break` jumps out of the _loop_ - no more iterations\n",
    "        - `continue` jumps out of the _interation_ - to the next iteration\n",
    "        \n",
    "See below example:"
   ]
  },
  {
   "cell_type": "code",
   "execution_count": 6,
   "metadata": {
    "slideshow": {
     "slide_type": "subslide"
    }
   },
   "outputs": [
    {
     "name": "stdout",
     "output_type": "stream",
     "text": [
      "> hello python\n",
      "hello python\n",
      "> # don't print this\n",
      "> print this\n",
      "print this\n",
      "> done\n",
      "Done!\n"
     ]
    }
   ],
   "source": [
    "while True:\n",
    "    line = input('> ') \n",
    "    if line[0] == '#': # if you enter a text start with `#` then move to next iteration but not skip the loop\n",
    "        continue\n",
    "    if line == 'done':\n",
    "        break\n",
    "    print(line)\n",
    "print('Done!')"
   ]
  },
  {
   "cell_type": "markdown",
   "metadata": {
    "slideshow": {
     "slide_type": "slide"
    }
   },
   "source": [
    "# `for` Loops\n",
    "\n",
    "- `while` loops focus on the loop condition\n",
    "    - when condition is `True`, move on; otherwise, stop\n",
    "- `for` loop focus on the collection of items\n",
    "    - when there are more items, move on; at the end of collection, stop\n",
    "    \n",
    "See below example:"
   ]
  },
  {
   "cell_type": "code",
   "execution_count": 7,
   "metadata": {
    "slideshow": {
     "slide_type": "subslide"
    }
   },
   "outputs": [
    {
     "name": "stdout",
     "output_type": "stream",
     "text": [
      "Happy New Year: Joseph\n",
      "Happy New Year: Glenn\n",
      "Happy New Year: Sally\n",
      "Done!\n"
     ]
    }
   ],
   "source": [
    "# Collection of items\n",
    "friends = ['Joseph', 'Glenn', 'Sally'] \n",
    "# for each item in the collection\n",
    "for friend in friends:\n",
    "    # do something about the item (not collection)\n",
    "    print('Happy New Year:', friend)\n",
    "print('Done!')\n"
   ]
  },
  {
   "cell_type": "markdown",
   "metadata": {
    "slideshow": {
     "slide_type": "slide"
    }
   },
   "source": [
    "# `for` Loops\n",
    "\n",
    "- In above example:\n",
    "    - Before `for` loops, you need to define the collection of items first\n",
    "    - then in each iteration in the `for` loop, each item is extracted from the list in order\n",
    "    - each iteration will do something about the current item\n",
    "    - in next iteration, the loop move on to the next item in the collect, and do something similar as the previous iteration\n",
    "    - after all items are exhausted from the collection, the loop ends\n",
    "    - in above example, `friend` is the loop variable\n",
    "    - loop condition is to _exhaust_ the collection"
   ]
  },
  {
   "cell_type": "markdown",
   "metadata": {
    "slideshow": {
     "slide_type": "slide"
    }
   },
   "source": [
    "# Common Loop Patterns\n",
    "\n",
    "- `for` and `while` loops are generally constructed by:\n",
    "    - Initializing one or more variables before the loop starts\n",
    "    - Performing some computation on each item in the loop body, possibly chang- ing the variables in the body of the loop\n",
    "    - Looking at the resulting variables when the loop completes\n",
    "    \n",
    "- Although we write loops for different reasons, there are some common patterns we use loops for\n"
   ]
  },
  {
   "cell_type": "markdown",
   "metadata": {
    "slideshow": {
     "slide_type": "slide"
    }
   },
   "source": [
    "# Common Loop Patterns\n",
    "\n",
    "- Counting and summing\n",
    "    - counting refers to count the number of items in a collecton\n",
    "        - for counting, you need to define a variable to store the count first (with an initial value of 0)\n",
    "        - in every iteration, you need to update the count variable (`count += 1`)\n",
    "        - after the loop ends, print out the value of the count variable"
   ]
  },
  {
   "cell_type": "code",
   "execution_count": 8,
   "metadata": {
    "slideshow": {
     "slide_type": "subslide"
    }
   },
   "outputs": [
    {
     "name": "stdout",
     "output_type": "stream",
     "text": [
      "Count:  6\n"
     ]
    }
   ],
   "source": [
    "# define count variable\n",
    "count = 0\n",
    "\n",
    "# iterate through the collection with a for loop\n",
    "for itervar in [3, 41, 12, 9, 74, 15]:\n",
    "    # in every iteration, update the value of the count variable by 1\n",
    "    count += 1 # same as count = count + 1\n",
    "# print out the final value of the count variable\n",
    "print('Count: ', count)"
   ]
  },
  {
   "cell_type": "markdown",
   "metadata": {
    "slideshow": {
     "slide_type": "slide"
    }
   },
   "source": [
    "# Common Loop Patterns\n",
    "\n",
    "- Counting and summing\n",
    "    - summing refers to the computation of total sum of all items in a collection\n",
    "        - for summing, you need to define a variable to store the sum first (with an initial value of 0)\n",
    "        - in every iteration, you need to update the sum variable by adding the element to the variable\n",
    "        - after the loop ends, print out the value of the sum variable"
   ]
  },
  {
   "cell_type": "code",
   "execution_count": 10,
   "metadata": {
    "slideshow": {
     "slide_type": "subslide"
    }
   },
   "outputs": [
    {
     "name": "stdout",
     "output_type": "stream",
     "text": [
      "Total:  154\n"
     ]
    }
   ],
   "source": [
    "# define sum variable\n",
    "total = 0\n",
    "# iterate through the collection with a for loop\n",
    "for itervar in [3, 41, 12, 9, 74, 15]:\n",
    "    # in every iteration, update the value of the count variable by adding current element to it\n",
    "    total +=  itervar # total = total + itervar\n",
    "# print out the final value of the sum variable after loop\n",
    "print('Total: ', total)\n"
   ]
  },
  {
   "cell_type": "markdown",
   "metadata": {
    "slideshow": {
     "slide_type": "slide"
    }
   },
   "source": [
    "# Common Loop Patterns\n",
    "\n",
    "- Maximum and minimum loops\n",
    "    - maximum loops find the element with the largest value in a collection\n",
    "        - you need to define the maximum variable to hold the candidate for maximal value (initial value as `None`)\n",
    "        - in every iteration, compare the current element with the maximum variable, if the current element is larger than the maximum variable, then assign the current element to the maximum variable\n",
    "        - after the loop ends, the largest value remains in the maximum variable"
   ]
  },
  {
   "cell_type": "code",
   "execution_count": 13,
   "metadata": {
    "slideshow": {
     "slide_type": "subslide"
    }
   },
   "outputs": [
    {
     "name": "stdout",
     "output_type": "stream",
     "text": [
      "Loop: 3 3\n",
      "Loop: 41 41\n",
      "Loop: 12 41\n",
      "Loop: 9 41\n",
      "Loop: 74 74\n",
      "Loop: 15 74\n",
      "Largest: 74\n"
     ]
    }
   ],
   "source": [
    "# initialize the maximum variable `largest` with `None` value\n",
    "largest = None\n",
    "# print('Before:', largest)\n",
    "# iterate through the collection with a for loop\n",
    "for itervar in [3, 41, 12, 9, 74, 15]:\n",
    "    if (largest is None or itervar > largest): \n",
    "        largest = itervar\n",
    "    print('Loop:', itervar, largest)\n",
    "print('Largest:', largest)\n"
   ]
  },
  {
   "cell_type": "markdown",
   "metadata": {
    "slideshow": {
     "slide_type": "slide"
    }
   },
   "source": [
    "# Common Loop Patterns\n",
    "- Maximum and minimum loops\n",
    "    - minimum loops find the element with the smallest value in a collection\n",
    "        - you need to define the minimum variable to hold the candidate for minimal value (initial value as `None`)\n",
    "        - in every iteration, compare the current element with the minimum variable, if the current element is smaller than the minimum variable, then assign the current element to the minimum variable\n",
    "        - after the loop ends, the largest value remains in the minimum variable"
   ]
  },
  {
   "cell_type": "code",
   "execution_count": 15,
   "metadata": {
    "slideshow": {
     "slide_type": "subslide"
    }
   },
   "outputs": [
    {
     "name": "stdout",
     "output_type": "stream",
     "text": [
      "Loop: 3 3\n",
      "Loop: 41 3\n",
      "Loop: 12 3\n",
      "Loop: 9 3\n",
      "Loop: 74 3\n",
      "Loop: 15 3\n",
      "Smallest: 3\n"
     ]
    }
   ],
   "source": [
    "# initialize the minimum variable `smallest` with `None` value\n",
    "smallest = None\n",
    "# print('Before:', smallest)\n",
    "# iterate through the collection with a for loop\n",
    "for itervar in [3, 41, 12, 9, 74, 15]:\n",
    "    if smallest is None or itervar < smallest: \n",
    "        smallest = itervar\n",
    "    print('Loop:', itervar, smallest)\n",
    "print('Smallest:', smallest)\n"
   ]
  },
  {
   "cell_type": "markdown",
   "metadata": {
    "slideshow": {
     "slide_type": "slide"
    }
   },
   "source": [
    "# Collection of Items\n",
    "\n",
    "- In Python, we have several data types that are _collections_ in nature \n",
    "    - we are going to cover __lists__, which is an important Python datatype, in next week\n",
    "    - although, there are other data types that are natively collections\n",
    "        - for instance, strings"
   ]
  },
  {
   "cell_type": "code",
   "execution_count": 18,
   "metadata": {
    "slideshow": {
     "slide_type": "subslide"
    }
   },
   "outputs": [
    {
     "name": "stdout",
     "output_type": "stream",
     "text": [
      "H\n",
      "e\n",
      "l\n",
      "l\n",
      "o\n",
      " \n",
      "w\n",
      "o\n",
      "r\n",
      "l\n",
      "d\n",
      "!\n"
     ]
    }
   ],
   "source": [
    "# See this example\n",
    "for c in 'Hello world!':\n",
    "    print(c) # each character is an element"
   ]
  },
  {
   "cell_type": "code",
   "execution_count": 17,
   "metadata": {
    "slideshow": {
     "slide_type": "subslide"
    }
   },
   "outputs": [
    {
     "name": "stdout",
     "output_type": "stream",
     "text": [
      "1\n",
      "2\n",
      "3\n",
      "4\n",
      "5\n",
      "6\n"
     ]
    }
   ],
   "source": [
    "# this string as well\n",
    "# However, if you change this into an integer, it will not be iterable\n",
    "for i in '123456':\n",
    "    print(i)"
   ]
  },
  {
   "cell_type": "markdown",
   "metadata": {
    "slideshow": {
     "slide_type": "slide"
    }
   },
   "source": [
    "# Loops and Functions\n",
    "\n",
    "- We already know that functions are reusable blocks of codes\n",
    "- Sometimes we can embed loops in functions\n",
    "    - particularly if we use _nested loops_ (discuss later), which mean a loop in a loop\n",
    "- Note that if you embed a loop in a function, the input (argument) of the function needs to be a _collection_"
   ]
  },
  {
   "cell_type": "code",
   "execution_count": 20,
   "metadata": {
    "slideshow": {
     "slide_type": "subslide"
    }
   },
   "outputs": [
    {
     "data": {
      "text/plain": [
       "3"
      ]
     },
     "execution_count": 20,
     "metadata": {},
     "output_type": "execute_result"
    }
   ],
   "source": [
    "my_lst = [3, 41, 12, 9, 74, 15]\n",
    "\n",
    "def minimal(values): \n",
    "    smallest = None\n",
    "    for value in values:\n",
    "        if smallest is None or value < smallest:\n",
    "            smallest = value \n",
    "    return smallest\n",
    "\n",
    "minimal(my_lst)"
   ]
  },
  {
   "cell_type": "markdown",
   "metadata": {
    "slideshow": {
     "slide_type": "slide"
    }
   },
   "source": [
    "# Local and Global Variables\n",
    "\n",
    "- Python variables, like most other programming languages, has different coverage \n",
    "    - coverage means where the variable can be _called_\n",
    "    - _local_ variable means it covers part of the program\n",
    "        - for instance, loop variable, argument variable\n",
    "    - _global_ variable means it covers the whole program (after definition)\n",
    "    - coverage of variables is determined by where the definition is\n",
    "        - if the definition is _in_ a loop or a function, then it is a _local_ variable\n",
    "        - otherwise it is a _global_ variable"
   ]
  },
  {
   "cell_type": "code",
   "execution_count": 22,
   "metadata": {},
   "outputs": [
    {
     "name": "stdout",
     "output_type": "stream",
     "text": [
      "Loop: 3 3\n",
      "Loop: 41 3\n",
      "Loop: 12 3\n",
      "Loop: 9 3\n",
      "Loop: 74 3\n",
      "Loop: 15 3\n",
      "Smallest: 3\n"
     ]
    }
   ],
   "source": [
    "# `smallest` is a global variable\n",
    "smallest = None\n",
    "# print('Before:', smallest)\n",
    "# iterate through the collection with a for loop\n",
    "# 'itervar' is a local variable\n",
    "for itervar in [3, 41, 12, 9, 74, 15]:\n",
    "    if smallest is None or itervar < smallest: \n",
    "        smallest = itervar\n",
    "    print('Loop:', itervar, smallest)\n",
    "print('Smallest:', smallest)\n"
   ]
  },
  {
   "cell_type": "markdown",
   "metadata": {
    "slideshow": {
     "slide_type": "slide"
    }
   },
   "source": [
    "# Nested Loops\n",
    "\n",
    "- Nested loops are loops containing loops inside\n",
    "    - collections of items we have seen so far are 1-D \n",
    "        - e.g. `[1, 2, 3, 4, 5]`\n",
    "    - however, in data science, the most common data types are 2-D or even 3-D collections\n",
    "        - e.g.\n",
    " ```python\n",
    "[[1, 2, 3, 4, 5],\n",
    " [6, 7, 8, 9 , 10],\n",
    " [11, 12, 13, 14, 15]]\n",
    "```\n",
    "\n",
    "- These data types are normally generated using _nested loops_"
   ]
  },
  {
   "cell_type": "code",
   "execution_count": 28,
   "metadata": {
    "slideshow": {
     "slide_type": "subslide"
    }
   },
   "outputs": [
    {
     "name": "stdout",
     "output_type": "stream",
     "text": [
      "1   2   3   4   5   \n",
      "2   4   6   8   10   \n",
      "3   6   9   12   15   \n"
     ]
    }
   ],
   "source": [
    "for i in range(1,4):\n",
    "    for j in range(1,6):\n",
    "        print(i * j, end=\"   \")\n",
    "    print()"
   ]
  },
  {
   "cell_type": "code",
   "execution_count": 29,
   "metadata": {
    "slideshow": {
     "slide_type": "slide"
    }
   },
   "outputs": [],
   "source": [
    "# to go through these data types, we also need nested loops\n",
    "# See below example\n",
    "\n",
    "# each element in below variable is a student\n",
    "# in each element there is a list containing the courses the student has taken, which is also a list\n",
    "# so essentially `students` is a 2-D data type\n",
    "students = [\n",
    "    (\"John\", [\"CompSci\", \"Physics\"]),\n",
    "    (\"Vusi\", [\"Maths\", \"CompSci\", \"Stats\"]),\n",
    "    (\"Jess\", [\"CompSci\", \"Accounting\", \"Economics\", \"Management\"]),\n",
    "    (\"Sarah\", [\"InfSys\", \"Accounting\", \"Economics\", \"CommLaw\"]),\n",
    "    (\"Zuki\", [\"Sociology\", \"Economics\", \"Law\", \"Stats\", \"Music\"])]"
   ]
  },
  {
   "cell_type": "code",
   "execution_count": 30,
   "metadata": {
    "slideshow": {
     "slide_type": "subslide"
    }
   },
   "outputs": [
    {
     "name": "stdout",
     "output_type": "stream",
     "text": [
      "John takes 2 courses\n",
      "Vusi takes 3 courses\n",
      "Jess takes 4 courses\n",
      "Sarah takes 4 courses\n",
      "Zuki takes 5 courses\n"
     ]
    }
   ],
   "source": [
    "# let's see what a regular loop can do\n",
    "# Print all students with a count of their courses.\n",
    "for (name, subjects) in students:\n",
    "    print(name, \"takes\", len(subjects), \"courses\")"
   ]
  },
  {
   "cell_type": "code",
   "execution_count": 31,
   "metadata": {
    "slideshow": {
     "slide_type": "subslide"
    }
   },
   "outputs": [
    {
     "name": "stdout",
     "output_type": "stream",
     "text": [
      "The number of students taking CompSci is 3\n"
     ]
    }
   ],
   "source": [
    "# However, when we need to access elements in the inner lists (courses)\n",
    "# we need to use a nested loop\n",
    "\n",
    "# Count how many students are taking CompSci\n",
    "counter = 0\n",
    "for (name, subjects) in students:\n",
    "    for s in subjects:                 # A nested loop!\n",
    "        if s == \"CompSci\":\n",
    "            counter += 1\n",
    "\n",
    "print(\"The number of students taking CompSci is\", counter)"
   ]
  },
  {
   "cell_type": "markdown",
   "metadata": {
    "slideshow": {
     "slide_type": "slide"
    }
   },
   "source": [
    "# Your Turn Here\n",
    "Finish exercises below by following instructions of each of them. \n",
    "\n",
    "Make sure you provide proper __pseudo code__ for each of your program."
   ]
  },
  {
   "cell_type": "markdown",
   "metadata": {
    "slideshow": {
     "slide_type": "slide"
    }
   },
   "source": [
    "## Q1. Code Problem\n",
    "\n",
    "Suppose two players (A, B) play a game of dice. Each player has a regular 6-sided dice (1 - 6). \n",
    "\n",
    "In each round, the player with larger number on the dice wins - the results is the winning player (A or B); if tied, then the result is 'tied'.\n",
    "\n",
    "The game has ten (10) rounds, write a function to record the results of the game.\n",
    "\n",
    "Example:\n",
    "If A rolls a 6 and B rolls a 4 in a round, output is 'A';\n",
    "If A rolls a 3 and B rools a 3 in a round, output is 'tied'.\n",
    "\n",
    "\n",
    "Use the code block below to complete your code. Remember to use loop to rebuild this program.\n",
    "\n",
    "__NOTE__: last week we try run the function 10 times, now we can use loop for this."
   ]
  },
  {
   "cell_type": "code",
   "execution_count": 1,
   "metadata": {
    "slideshow": {
     "slide_type": "subslide"
    }
   },
   "outputs": [
    {
     "name": "stdout",
     "output_type": "stream",
     "text": [
      "A\n",
      "tied\n",
      "B\n",
      "A\n",
      "A\n",
      "B\n",
      "tied\n",
      "A\n",
      "B\n",
      "B\n",
      "10-rounds completed\n"
     ]
    }
   ],
   "source": [
    "import random\n",
    "\n",
    "# for loop needs to run the game 10-times \n",
    "# for element in the for loop, run it 10-times\n",
    "# Each player has a 6-sided dice that will generate random output - we assigned it to each player\n",
    "# Use conditions as stated in the assigmnet \n",
    "# In the end print outside the function signaling 10-loops were completed\n",
    "for c in range(10): \n",
    "    a = random.randint(1,6)\n",
    "    b = random.randint(1,6)\n",
    "    if a > b:\n",
    "        print(\"A\")\n",
    "    if a < b:\n",
    "        print(\"B\")\n",
    "    if a == b:\n",
    "        print(\"tied\")\n",
    "print(\"10-rounds completed\")\n"
   ]
  },
  {
   "cell_type": "markdown",
   "metadata": {
    "slideshow": {
     "slide_type": "slide"
    }
   },
   "source": [
    "## Q2. Code Completion Problem\n",
    "\n",
    "Weite a function to check if a list contains an element.\n",
    "- Use a random integer generator to generate an integer (`i`) between 0 and 5;\n",
    "- Based on the value of `i`, generate a list (`int_lst`) of integers (between 0 and 9) with length of `i`;\n",
    "    - you need to use a `for` loop here\n",
    "- Use a random integer generator to generate an integer (`j`) between 0 and 9;\n",
    "- Check if any element in `int_lst` equals to `j`.\n",
    "    - output `int_lst` and `j`\n",
    "    - if `int_lst` contains `j` then output `found!`\n",
    "    - otherwise output `not found!`"
   ]
  },
  {
   "cell_type": "code",
   "execution_count": 22,
   "metadata": {
    "slideshow": {
     "slide_type": "subslide"
    }
   },
   "outputs": [],
   "source": [
    "import random\n",
    "\n",
    "# generate random integer list of random length\n",
    "def lst_gen(): # function created\n",
    "    int_lst = [] # empty list\n",
    "    i = random.randint(0,5) # complete code here to generate a value between 0 and 5\n",
    "    # generates `i` random integers and store them in `int_lst`\n",
    "    for x in range(i+1):\n",
    "            rand_int = random.randint(0,9) # complete code here to generate a value between 0 and 9\n",
    "            int_lst.append(rand_int)\n",
    "    \n",
    "    return(int_lst)\n",
    "\n",
    "# check if `int_lst` contains `j`\n",
    "def lst_check():\n",
    "    j = random.randint(0,9) # complete code here to generate a value between 0 and 9\n",
    "    int_lst = lst_gen() \n",
    "    # now int_lst is a variable containing a function with a loop that has 6 random elements as i \n",
    "    # now it generates random intigers between 0 and 9 with the lenght of i (6)\n",
    "    print(int_lst, j) # write code here to output `int_lst` and `j\n",
    "    # complete code below to iterate through `int_lst`\n",
    "    for j_elements in int_lst:\n",
    "        if j_elements == j: \n",
    "        # check if `int_lst` contains `j` by comparing elements with j (`==`)\n",
    "        \n",
    "            # if found print `found!`\n",
    "            print('found!')\n",
    "    # otherwise print `not found!`\n",
    "        else:\n",
    "            print('not found!')\n",
    "    \n",
    "   \n"
   ]
  },
  {
   "cell_type": "code",
   "execution_count": 23,
   "metadata": {
    "slideshow": {
     "slide_type": "subslide"
    }
   },
   "outputs": [
    {
     "name": "stdout",
     "output_type": "stream",
     "text": [
      "[1, 4, 7, 5, 5, 7] 1\n",
      "found!\n",
      "not found!\n",
      "not found!\n",
      "not found!\n",
      "not found!\n",
      "not found!\n"
     ]
    }
   ],
   "source": [
    "# test your function\n",
    "lst_check()"
   ]
  },
  {
   "cell_type": "markdown",
   "metadata": {
    "slideshow": {
     "slide_type": "slide"
    }
   },
   "source": [
    "## Q3. Coding Problem\n",
    "\n",
    "Write a function to calculate the mean of a colletion of 10 integers, using the equation below.\n",
    "\n",
    "$ mean = \\frac{sum}{count} $\n",
    "\n",
    "`sum` is the total sum of all integers, `count` is the number of integers (`count = 10`).\n",
    "\n",
    "- use random integer generator to generate 10 integers between 0 and 100\n",
    "- calculate the sum of all 10 integers\n",
    "- calculate the mean\n",
    "\n",
    "Use the code block below to write and test your function."
   ]
  },
  {
   "cell_type": "code",
   "execution_count": 50,
   "metadata": {
    "slideshow": {
     "slide_type": "subslide"
    }
   },
   "outputs": [
    {
     "name": "stdout",
     "output_type": "stream",
     "text": [
      "The mean is: 64.1\n"
     ]
    }
   ],
   "source": [
    "# Calculate the mean of 1 set of 10 integers USING a function --> def function(): \n",
    "# Mean= sum up all (random) integers and divide it by its count = 10 \n",
    "# Generate 10 random integers between 0 and 100 --> var = random.randint(0,100)\n",
    "# sum of 10 random integers 0-100 --> var = random.randint(0,100) --> 1 integer \n",
    "# for var in range(10): --> for var elements --> loop to be run 10 times\n",
    "# list is = [], \n",
    "\n",
    "import random\n",
    "def my_function(rand_mean):\n",
    "    intlist=[0]\n",
    "    for x in range(9):\n",
    "        randints = random.randint(0,100)\n",
    "        intlist.append(randints)\n",
    "        sumints = sum(intlist)\n",
    "        rand_mean = sumints/10\n",
    "    print(\"The mean is:\", rand_mean)\n",
    "my_function(rand_mean)\n"
   ]
  },
  {
   "cell_type": "markdown",
   "metadata": {
    "slideshow": {
     "slide_type": "slide"
    }
   },
   "source": [
    "## Q4. Coding Problem\n",
    "\n",
    "Write a function to generate a simple histogram based on a collection of random integers.\n",
    "- A function is provided to you to generate a list of random integers;\n",
    "- Your job is to take every element in the list:\n",
    "    - based on the value of the element, print dashes (`-`)\n",
    "    - at the end of each dash sequence, print `|`"
   ]
  },
  {
   "cell_type": "code",
   "execution_count": 19,
   "metadata": {
    "slideshow": {
     "slide_type": "subslide"
    }
   },
   "outputs": [
    {
     "data": {
      "text/plain": [
       "[9, 7, 5, 5, 1, 9, 7, 9, 5, 3]"
      ]
     },
     "execution_count": 19,
     "metadata": {},
     "output_type": "execute_result"
    }
   ],
   "source": [
    "import random\n",
    "def random_lst_gen(x = 10):\n",
    "    random_lst = []\n",
    "    for i in range(x):\n",
    "        random_lst.append(random.randint(1, 9))\n",
    "    return random_lst\n",
    "\n",
    "my_lst = random_lst_gen()\n",
    "my_lst"
   ]
  },
  {
   "cell_type": "code",
   "execution_count": null,
   "metadata": {
    "slideshow": {
     "slide_type": "subslide"
    }
   },
   "outputs": [],
   "source": [
    "# take every element in the list --> need to use for loop --> for element in my_lst\n",
    "# if its nbr 1 print 1 - and | at the end if nbr 2 -->  --|, ..., max 10 - \n",
    "# if elements == 1: print(\"-\", \"|\") --> have to make the condition that based on the nbr it adds dashes \n",
    "# - + elements, \"|\" --> transform it to a string? \n",
    "# write your function here \n",
    "\n",
    "# for elements in the list iterate the following\n",
    "# if one of the elements is 1 then change it to - and | \n",
    "# if the numbers are larger than 1 --> print the number * - + | --> e.g. 6 * - + | = ------|\n",
    "# Python can be used to multiply things other than numbers (e.g. strings) AND vice versa\n",
    "# multiplying transfromed a n-number into and n-dashes + | \n",
    "    \n",
    "def my_hist(my_lst):\n",
    "    dash = \"-\"\n",
    "    horiz = \"|\"\n",
    "    for elements in my_lst:\n",
    "        elements = elements*dash+horiz\n",
    "        print(elements)    \n",
    "my_hist(my_lst)"
   ]
  },
  {
   "cell_type": "markdown",
   "metadata": {
    "slideshow": {
     "slide_type": "slide"
    }
   },
   "source": [
    "## Q5. Check Factors\n",
    "\n",
    "Write a function to find all factors of a random integer between 1 and 50.\n",
    "- A factor is an integer divides another integer evenly [ref](https://www.britannica.com/science/factor-mathematics).\n",
    "\n",
    "Example input and output:\n",
    "```\n",
    "8 -> 1, 2, 4, 8\n",
    "13 -> 1, 13\n",
    "```\n",
    "\n",
    "__HINT:__ you should iterate from 1 to the random integer, and use residual (`%`) to check if the current number is a factor.\n",
    "\n",
    "Use the code block below to write and test your function."
   ]
  },
  {
   "cell_type": "code",
   "execution_count": 6,
   "metadata": {},
   "outputs": [],
   "source": [
    "# find all factors of random integer - whatever it is \n",
    "# a factor divides another intiger evenly and is smaller or equal to that number \n",
    "# we need a loop that will iterate factors through that random number only \n",
    "# if iteration is true add it to a list and repeat/loop it\n",
    "# repeat it until the factor is the same as the random integer \n",
    "# start with factor 1 as a lower limit and end with upper limit --> random number \n",
    "# run 1 random integer and then run factors \n"
   ]
  },
  {
   "cell_type": "code",
   "execution_count": 61,
   "metadata": {},
   "outputs": [
    {
     "name": "stdout",
     "output_type": "stream",
     "text": [
      "The factors of 40 are: \n",
      "1 2 4 5 8 10 20 40 "
     ]
    }
   ],
   "source": [
    "import random\n",
    "lists=[] # start a lis we will use later\n",
    "\n",
    "randinteger = random.randint(1,50) \n",
    "# this will give us a random number between 1 - 50\n",
    "\n",
    "# a function needs a collection for an argument for when you call it in the end \n",
    "def factor_finder(lists): \n",
    "    for integers in range(1, randinteger+1): # for elements that are between 1 and whatever the random number is +1\n",
    "        # +1 to capture the last factor which is the random integer\n",
    "        if randinteger % integers == 0: # integers are all numbers from 1 to random number.\n",
    "            # if we divide this numbers with random integer and the residual = 0 \n",
    "            # the number is a factor of the random integer\n",
    "            lists.append(integers) # if that is true --> add it to the list we created in the beginning\n",
    "            # Now we get all the factors BUT we get many lists that are updated 1 factor at a time\n",
    "            # That is becasue of the for loop --> it starts with 1 and checks if the residual is 1 \n",
    "            # if yes it adds it to a list --> [1]\n",
    "            # then it goes back up changes the number to 2 and checks again if residual is 0 \n",
    "            # if yes it adds it to a new list with the previus factor --> [1], [1, 2]\n",
    "    for x in lists: # we use this to get rid of the duplicates (we need to iterate again)\n",
    "        # for elements in the lists (we have all factors but multiple duplicate numbers and lists we don't need)\n",
    "        print(x , end=' ') # print element and then end it --> print 1 end, print 2 end...\n",
    "        #\n",
    "print(\"The factors of\", randinteger, \"are: \") # we explain the output of our hard work \n",
    "factor_finder(lists) # and call this \"bloody\" function \n"
   ]
  },
  {
   "cell_type": "markdown",
   "metadata": {},
   "source": [
    "# END OF HW \n",
    "Proceed only if you want to see me struggle"
   ]
  },
  {
   "cell_type": "code",
   "execution_count": null,
   "metadata": {},
   "outputs": [],
   "source": [
    "import random\n",
    "lists=[]\n",
    "randinteger = random.randint(1,50)\n",
    "for integers in range(1, randinteger+1):\n",
    "    if randinteger % integers == 0:\n",
    "        lists.append(integers)\n",
    "print(\"These are the factors of\", randinteger, \": \")\n",
    "for x in lists:\n",
    "    print(x , end=' ')"
   ]
  },
  {
   "cell_type": "code",
   "execution_count": null,
   "metadata": {},
   "outputs": [],
   "source": [
    "import random\n",
    "lists=[] # initialize the empty list we will later append numbers to \n",
    "randinteger = random.randint(1,50) # This will generate a random integer between 1 and 50\n",
    "for randinteger in lists: # create a for loop that\n",
    "    lower = [i for i in range(1,50)] # limit is not a random its between 1 to max 50 create for loop fo this \n",
    "    lower = list(range(1,50))\n",
    "    process = randinteger % lower \n",
    "    if process == 0: # \n",
    "        lists.append(lower)\n",
    "        print(randinteger, \": \", lists)"
   ]
  },
  {
   "cell_type": "code",
   "execution_count": 12,
   "metadata": {},
   "outputs": [],
   "source": [
    "import random\n",
    "lower = [i for i in range(1,51)] # limit is not a random its between 1 to max 50 create for loop fo this \n",
    "lower = list(range(1,51))\n",
    "randinteger = random.randint(1,50)\n",
    "lists=[]\n",
    "for lower in lists:\n",
    "    calculation = randinteger % lower \n",
    "    if process == 0:\n",
    "        lists.append(lower)\n",
    "        print(lists)"
   ]
  },
  {
   "cell_type": "code",
   "execution_count": 15,
   "metadata": {},
   "outputs": [
    {
     "ename": "TypeError",
     "evalue": "unsupported operand type(s) for %: 'int' and 'list'",
     "output_type": "error",
     "traceback": [
      "\u001b[0;31m---------------------------------------------------------------------------\u001b[0m",
      "\u001b[0;31mTypeError\u001b[0m                                 Traceback (most recent call last)",
      "\u001b[0;32m<ipython-input-15-369ae61e75e7>\u001b[0m in \u001b[0;36m<module>\u001b[0;34m\u001b[0m\n\u001b[1;32m      7\u001b[0m \u001b[0mfactor\u001b[0m \u001b[0;34m=\u001b[0m \u001b[0;34m[\u001b[0m\u001b[0;36m1\u001b[0m\u001b[0;34m,\u001b[0m \u001b[0mrandinteger\u001b[0m\u001b[0;34m]\u001b[0m\u001b[0;34m\u001b[0m\u001b[0;34m\u001b[0m\u001b[0m\n\u001b[1;32m      8\u001b[0m \u001b[0;32mfor\u001b[0m \u001b[0melements\u001b[0m \u001b[0;32min\u001b[0m \u001b[0mfactor\u001b[0m\u001b[0;34m:\u001b[0m\u001b[0;34m\u001b[0m\u001b[0;34m\u001b[0m\u001b[0m\n\u001b[0;32m----> 9\u001b[0;31m     \u001b[0mfactors\u001b[0m \u001b[0;34m=\u001b[0m \u001b[0mrandinteger\u001b[0m \u001b[0;34m%\u001b[0m \u001b[0mfactor\u001b[0m\u001b[0;34m\u001b[0m\u001b[0;34m\u001b[0m\u001b[0m\n\u001b[0m\u001b[1;32m     10\u001b[0m     \u001b[0;32mif\u001b[0m \u001b[0mfactors\u001b[0m \u001b[0;34m==\u001b[0m \u001b[0;36m0\u001b[0m\u001b[0;34m:\u001b[0m\u001b[0;34m\u001b[0m\u001b[0;34m\u001b[0m\u001b[0m\n\u001b[1;32m     11\u001b[0m         \u001b[0mlists\u001b[0m\u001b[0;34m.\u001b[0m\u001b[0mappend\u001b[0m\u001b[0;34m(\u001b[0m\u001b[0mfactor\u001b[0m\u001b[0;34m)\u001b[0m\u001b[0;34m\u001b[0m\u001b[0;34m\u001b[0m\u001b[0m\n",
      "\u001b[0;31mTypeError\u001b[0m: unsupported operand type(s) for %: 'int' and 'list'"
     ]
    }
   ],
   "source": [
    "import random\n",
    "randinteger = random.randint(1,50)\n",
    "# set a limit where upper limit is randinteger and lower is 1 --> list\n",
    "# run than list in for loop \n",
    "factorsopt = [i for i in range(randinteger)]\n",
    "lists=[]\n",
    "factor = [1, randinteger]\n",
    "for elements in factor:\n",
    "    factors = randinteger % factor \n",
    "    if factors == 0:\n",
    "        lists.append(factor)\n",
    "        print(lists)"
   ]
  },
  {
   "cell_type": "markdown",
   "metadata": {
    "slideshow": {
     "slide_type": "slide"
    }
   },
   "source": [
    "# Classwork (start here in class)\n",
    "You can start working on them right now:\n",
    "- Read Chapter 5 in PY4E\n",
    "- If time permits, start in on your homework. \n",
    "- Ask questions when you need help. Use this time to get help from the professor!\n",
    "\n",
    "# Homework (do at home)\n",
    "The following is due before class next week:\n",
    "  - Any remaining classwork from tonight\n",
    "  - Data Camp “Loops” assignment \n",
    "\n",
    "Note: All work on Data Camp is logged. Don't try to fake it!\n",
    "\n",
    "Please email jtao@fairfield.edu if you have any problems or questions."
   ]
  },
  {
   "cell_type": "markdown",
   "metadata": {
    "slideshow": {
     "slide_type": "slide"
    }
   },
   "source": [
    "![DSB Logo](img/Dolan.jpg)\n",
    "# Python Essentials: Iterations\n",
    "## PY4E Chapter 5\n",
    "### What you must know about Python"
   ]
  },
  {
   "cell_type": "code",
   "execution_count": null,
   "metadata": {},
   "outputs": [],
   "source": []
  }
 ],
 "metadata": {
  "celltoolbar": "Slideshow",
  "kernelspec": {
   "display_name": "Python 3",
   "language": "python",
   "name": "python3"
  },
  "language_info": {
   "codemirror_mode": {
    "name": "ipython",
    "version": 3
   },
   "file_extension": ".py",
   "mimetype": "text/x-python",
   "name": "python",
   "nbconvert_exporter": "python",
   "pygments_lexer": "ipython3",
   "version": "3.6.7"
  }
 },
 "nbformat": 4,
 "nbformat_minor": 2
}
