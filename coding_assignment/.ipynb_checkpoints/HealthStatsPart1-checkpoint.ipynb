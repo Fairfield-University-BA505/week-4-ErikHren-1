{
 "cells": [
  {
   "cell_type": "markdown",
   "metadata": {},
   "source": [
    "# Health Stats Part 1: Waist 2 Hip Ratios"
   ]
  },
  {
   "cell_type": "markdown",
   "metadata": {},
   "source": [
    "<!--- Write an explanation of the Waist To Hips Ratio statistic used by health professionals. Please include an explanation of what it is used for, exactly how it is calculated, and how to interpret the results. Note: Formmatting matters. Make this as professional as you can using Markdown.  --->\n",
    "\n",
    "<!--- feel free to use any web resources, including [Wikipedia](https://en.wikipedia.org/wiki/Waist%E2%80%93hip_ratio) or any other resources that you can find online. Just MAKE SURE you provide a link to every resource you decide to use. --->\n",
    "\n",
    "<!--- Including the formula, or that fancy diagram/table you see on wikipedia is DEFINITELY a good idea! How? The LaTeX equations section in [This link](https://jupyter-notebook.readthedocs.io/en/stable/examples/Notebook/Working%20With%20Markdown%20Cells.html) might help. --->\n",
    "\n",
    "<!--- For extra points, try to create a table similar to the one on the wikipedia page on your own. --->\n",
    "\n",
    "__EDIT THIS MARKDOWN CELL__\n",
    "\n",
    "# Waist-hip ratio\n",
    "\n",
    "The __waist-hip ratio__ or waist-to-hip ratio (WHR) is the dimensionless ratio of the circumference of the waist to that of the hips. This is calculated as waist measurement divided by hip measurement (W ÷ H). For example, a person with a 30″ (76 cm) waist and 38″ (97 cm) hips has a waist-hip ratio of about 0.78.\n",
    "\n",
    "<img src = 'https://upload.wikimedia.org/wikipedia/commons/thumb/d/dd/Waist-hip_ratio.svg/300px-Waist-hip_ratio.svg.png' />\n",
    "\n",
    "<strong> To calculate the WHR we use this formula: \n",
    "\n",
    "$ ratio_{w2h} = \\frac{w}{h} $\n",
    "\n",
    "\n",
    "The __WHR__ has been used as an indicator or measure of health, and the risk of developing serious health conditions. WHR correlates with fertility (with different optimal values in males and females).\n",
    "\n",
    "WHR is used as a measurement of obesity, which in turn is a possible indicator of other more serious health conditions. The WHO states that abdominal obesity is defined as a waist-hip ratio above 0.90 for males and above 0.85 for females, or a body mass index (BMI) above 30.0. The National Institute of Diabetes, Digestive and Kidney Diseases (NIDDK) states that women with waist hip ratios of more than 0.8, and men with more than 1.0, are at increased health risk because of their fat distribution.\n",
    "\n",
    "__Table 1__ \n",
    "    \n",
    "The following table displays WHR standards for woman and man for what is considered under-weight, normal-weight, over-weight and obese. These ratios were set by DGSB, WHO, and NIDDK, respectively (e.g. the first women and man column was set by DGSB). \n",
    "\n",
    "                                                                                     \n",
    "|<i></i> | Women | Man | Women | Man | Women | Man |\n",
    "|-------|-------|-----|-------|-----|-------|-----| \n",
    "| Underweight | ? |? |? |? |? |? | \n",
    "| Normal-weight | < 0.80 | < 0.90 | ? | ? | ? | ? | \n",
    "| Over-weight | 0.80-0.84 | 0.90-0.99| ? | ? | ? | ? |\n",
    "| Obesity | > 0.85 | > 1.00 | > 0.85 | > 0.90 | > 0.80 | > 1.00 |\n",
    "\n",
    "[1]: Source: https://en.wikipedia.org/wiki/Waist%E2%80%93hip_ratio#cite_note-6 \n",
    "\n",
    "                                                                                      "
   ]
  },
  {
   "cell_type": "code",
   "execution_count": 5,
   "metadata": {},
   "outputs": [],
   "source": [
    "# NOTE: \n",
    "# if you use |---| one time it works \n",
    "# $ ratio_{w2h} = \\frac{w}{h} $ --> $ (beggining + end) for formula\n",
    "    # ratio (normal letters), _ (subscript the following), {} (enclose what you want to included in previous command)\n",
    "    # /frac --> make a fraction and use {for upper} and {lower} value\n",
    "    # end with $ for the end of formula"
   ]
  },
  {
   "cell_type": "markdown",
   "metadata": {},
   "source": [
    "## Source Data "
   ]
  },
  {
   "cell_type": "markdown",
   "metadata": {},
   "source": [
    "<!--- Replace the text below with a Markdown bullet list that defines the columns of the CSV file. Be sure to indicate the data type for each column. --->\n",
    "\n",
    "<!--- Example can be: ID, unique identifier of each person, integer. Remember you need to put this into a bullet list! How? [This link](https://jupyter-notebook.readthedocs.io/en/stable/examples/Notebook/Working%20With%20Markdown%20Cells.html) might help. --->\n",
    "\n",
    "<!--- These two markdown cells are required in almost any analytical report. --->\n",
    "\n",
    "__EDIT THIS MARKDOWN CELL__\n",
    "\n",
    "\n"
   ]
  },
  {
   "cell_type": "markdown",
   "metadata": {},
   "source": [
    "## Data Import\n",
    "\n",
    "For whatever type of analysis, we need to read in the data. \n",
    "\n",
    "This is the basic way how Python read-in data. \n",
    "\n",
    "For more information regarding this part, read Chapter 7 in your PY4E textbook."
   ]
  },
  {
   "cell_type": "code",
   "execution_count": 1,
   "metadata": {
    "collapsed": true
   },
   "outputs": [],
   "source": [
    "# Goal: Extract the data from the file\n",
    "    # Assign a variable to open the file command\n",
    "    # use open() and specify \"file name\", and what you want to do with it --> r = reading \n",
    "    # There is more conditions you can use e.g. set delimiters, usecols [use columns specify], dtype = make all entries one type\n",
    "    # skiprows\n",
    "    # Better to use np.loadtext(), np.genfromtxt(), np.recsfromcsv(), or with open(here you don't need to close file)\n",
    "    \n",
    "# opens the w2h_data.csv for reading\n",
    "f = open(\"w2h_data.csv\", \"r\")\n",
    "# d = f.read() f.close() print(d)\n",
    "\n",
    "# loads the file into a list of strings, one string per line\n",
    "    # list(single argument) creates a list, terable is optional (to change over object e.g. float)\n",
    "    \n",
    "raw_lines = list(f) # assign new variable and convert the f file into a list\n",
    "\n",
    "# closes the file\n",
    "f.close()"
   ]
  },
  {
   "cell_type": "markdown",
   "metadata": {},
   "source": [
    "Data are not useful when they are in the wrong data type, or have wrong values, missing values... \n",
    "\n",
    "Clean up your data is an important step in any analysis."
   ]
  },
  {
   "cell_type": "code",
   "execution_count": 2,
   "metadata": {
    "collapsed": true
   },
   "outputs": [
    {
     "name": "stdout",
     "output_type": "stream",
     "text": [
      "[['ID', 'Waist', 'Hip', 'Gender'], [1, 30, 32, 'M'], [2, 32, 37, 'M'], [3, 30, 36, 'M'], [4, 33, 39, 'M'], [5, 29, 33, 'M'], [6, 32, 38, 'M'], [7, 33, 42, 'M'], [8, 30, 40, 'M'], [9, 30, 37, 'M'], [10, 32, 39, 'M'], [11, 24, 35, 'F'], [12, 25, 37, 'F'], [13, 24, 37, 'F'], [14, 22, 34, 'F'], [15, 26, 38, 'F'], [16, 26, 37, 'F'], [17, 25, 38, 'F'], [18, 26, 37, 'F'], [19, 28, 40, 'F'], [20, 23, 35, 'F']]\n"
     ]
    }
   ],
   "source": [
    "# Goal: Scrub and convert the data, loading it into a new list called rows\n",
    "\n",
    "# Strips out newline '\\n' characters and converts to a list\n",
    "    # .rstrip(\"removes end of the line characters - to the right of the list\") in this case /n --> method\n",
    "    # .split(\"every time you see a delimiter that seperates the SET of values --> split them up to SUBLISTS\") - method\n",
    "    # sublists are now sperated with [],[],[] brackets\n",
    "    # for r in raw_lines --> a loop --> loop the previous commands for every element in raw_lines list\n",
    "    # store this in a new variable raw_rows\n",
    "    # []--> embed all to to make sure this only applies to this line --> so the loop captures previous commands\n",
    "    # why []? \n",
    "raw_rows = [r.rstrip('\\n').split(',') for r in raw_lines] # <--- Whoa. Why does this work? \n",
    "\n",
    "# for loop is great for updating the entire list the way you want it to look like\n",
    "\n",
    "# Creates a new list `rows`, starting with just the column names\n",
    "    # .append() --> Adds its argument as a single element to the end of a list \n",
    "        # append only the first element (element in this case is column names because of the split)\n",
    "        # But why isnt that already appended? Maybe append that column names to every other sublist or reference ir\n",
    "            # or connect it)\n",
    "        # Why the ; ??\n",
    "rows = list() \n",
    "rows.append(raw_rows[0]);\n",
    "\n",
    "# Convert each `raw_row`, starting with the second\n",
    "for raw_row in raw_rows[1:]:\n",
    "    \n",
    "    # Note: the values in the `raw_row` list are all strings.\n",
    "    # Create a new list called `row` that converts each item in `raw_row` to the right data type \n",
    "        # making sure that numbers are numbers and not strings so we can make calculations\n",
    "    row = [int((raw_row[0])),int(raw_row[1]), int(raw_row[2]),raw_row[3]] # FIX THIS; \n",
    "    # you'll need to use conversion functions above\n",
    "    # Append the new `row` to the `rows` list\n",
    "    rows.append(row) # convert/add everything said for the entire list starting with second sublist\n",
    "\n",
    "    \n",
    "print(rows)\n",
    "# from here on out use the `rows` list instead of `raw_rows` or `raw_lines`\n",
    "# You may want to print out `rows` to test whether your code above worked"
   ]
  },
  {
   "cell_type": "markdown",
   "metadata": {},
   "source": [
    "## Calculations\n",
    "\n",
    "Sometimes, the data given to you do not contain the values you need directly, you will need to calculate them somehow. \n",
    "\n",
    "In this part, you calculate two new features namely `W2H Ratio` and `Shape`."
   ]
  },
  {
   "cell_type": "code",
   "execution_count": 3,
   "metadata": {
    "collapsed": true
   },
   "outputs": [
    {
     "name": "stdout",
     "output_type": "stream",
     "text": [
      "[['ID', 'Waist', 'Hip', 'Gender', 'W2H Ratio', 'Shape'], [1, 30, 32, 'M', 0.9375, 'Apple'], [2, 32, 37, 'M', 0.8648648648648649, 'Pear'], [3, 30, 36, 'M', 0.8333333333333334, 'Pear'], [4, 33, 39, 'M', 0.8461538461538461, 'Pear'], [5, 29, 33, 'M', 0.8787878787878788, 'Pear'], [6, 32, 38, 'M', 0.8421052631578947, 'Pear'], [7, 33, 42, 'M', 0.7857142857142857, 'Pear'], [8, 30, 40, 'M', 0.75, 'Pear'], [9, 30, 37, 'M', 0.8108108108108109, 'Pear'], [10, 32, 39, 'M', 0.8205128205128205, 'Pear'], [11, 24, 35, 'F', 0.6857142857142857, 'Pear'], [12, 25, 37, 'F', 0.6756756756756757, 'Pear'], [13, 24, 37, 'F', 0.6486486486486487, 'Pear'], [14, 22, 34, 'F', 0.6470588235294118, 'Pear'], [15, 26, 38, 'F', 0.6842105263157895, 'Pear'], [16, 26, 37, 'F', 0.7027027027027027, 'Pear'], [17, 25, 38, 'F', 0.6578947368421053, 'Pear'], [18, 26, 37, 'F', 0.7027027027027027, 'Pear'], [19, 28, 40, 'F', 0.7, 'Pear'], [20, 23, 35, 'F', 0.6571428571428571, 'Pear']]\n"
     ]
    }
   ],
   "source": [
    "# Goal: For each row of data calculate and store the w2h_ratio and shape.\n",
    "    # don't know what shape means in this context?? Apple means you are fat and pear not??\n",
    "\n",
    "# Adds columns for the two new features\n",
    "    # so only in the columns list add the following\n",
    "    # .extent() expand the columns in this case by following\n",
    "    # [] why?\n",
    "rows[0].extend([\"W2H Ratio\",\"Shape\"])\n",
    "\n",
    "# For each row in the rows list, calculate the waist to hips ratio and shape\n",
    "for row in rows[1:]: # update/calculate elements starting with the 2nd sublist \n",
    "\n",
    "    # Calculate the w2h_ratio\n",
    "        # store results in variable\n",
    "        # divide the second and third element in the sublist --> do it for all (loop)\n",
    "    w2h_ratio = (row[1])/(row[2]) # FIX THIS; you will need to take care about data types\n",
    "    \n",
    "    # Based on the ratio and the gender, set the variable shape to either 'Apple' or 'Pear'\n",
    "        # set a variable's innitial value = \"Pear\"\n",
    "        # if the ratio is bigger than 0.90 and 4th row in the list is \"M\" --> w2h ratio from my table above\n",
    "        # say the shape is \"Apple\" otherwise leave \"Pear\"\n",
    "        # but if the 4th row is \"F\" and ratio is higher than 0.85 --> say apple otherwise leave pear \n",
    "    shape = \"Pear\" # FIX THIS; you will need to use a conditional\n",
    "    if row[3] == \"M\" and w2h_ratio > 0.9:\n",
    "        shape = \"Apple\"\n",
    "    if row[3] == \"F\" and w2h_ratio > 0.85:\n",
    "        shape = \"Apple\"\n",
    "            \n",
    "        \n",
    "    row += [w2h_ratio, shape] # note: += is shorthand for the extend method used above\n",
    "    \n",
    "    # row here is a variable from for the loop\n",
    "    # a += b is shorthand for a = a + b\n",
    "    # meaning: each row element (start with 2nd one)= row element(2nd...) + calculations for w2h ratio and shape\n",
    "    # [column names e.g. ratio, shape] [1, 30,32,M,ratio calc, Apple/pear]...\n",
    "    # So that means put the calculation and condition under the column names W2H Ratio and Shape.\n",
    "    \n",
    "    \n",
    "    #HOW DOES THE PROGRAM KNOW TO PUT THE CALCULATIONS UNDER THESE 2 COLUMNS?? WE DIDNT SPECIFY??\n",
    "        # nevermind we did it in the HTML code bellow\n",
    "print(rows)"
   ]
  },
  {
   "cell_type": "markdown",
   "metadata": {},
   "source": [
    "HOW TO PREVENT PROGRAM OF ADDING shapes and ratio columns and values if you run it 2 times in a row"
   ]
  },
  {
   "cell_type": "markdown",
   "metadata": {},
   "source": [
    "## Output \n",
    "\n",
    "In your analysis report, it is always helpful to display your data somehow.\n",
    "\n",
    "This is a very rudimentary way to displaying your data, including the original features and the new features you just calculated."
   ]
  },
  {
   "cell_type": "markdown",
   "metadata": {},
   "source": [
    "# Discussion answers are after the output"
   ]
  },
  {
   "cell_type": "code",
   "execution_count": 4,
   "metadata": {
    "collapsed": false
   },
   "outputs": [
    {
     "data": {
      "text/html": [
       "<table><tr><th>ID</th><th>Waist</th><th>Hip</th><th>Gender</th><th>W2H Ratio</th><th>Shape</th></tr><tr><td>1</td><td>30</td><td>32</td><td>M</td><td>0.9375</td><td>Apple</td></tr><tr><td>2</td><td>32</td><td>37</td><td>M</td><td>0.8648648648648649</td><td>Pear</td></tr><tr><td>3</td><td>30</td><td>36</td><td>M</td><td>0.8333333333333334</td><td>Pear</td></tr><tr><td>4</td><td>33</td><td>39</td><td>M</td><td>0.8461538461538461</td><td>Pear</td></tr><tr><td>5</td><td>29</td><td>33</td><td>M</td><td>0.8787878787878788</td><td>Pear</td></tr><tr><td>6</td><td>32</td><td>38</td><td>M</td><td>0.8421052631578947</td><td>Pear</td></tr><tr><td>7</td><td>33</td><td>42</td><td>M</td><td>0.7857142857142857</td><td>Pear</td></tr><tr><td>8</td><td>30</td><td>40</td><td>M</td><td>0.75</td><td>Pear</td></tr><tr><td>9</td><td>30</td><td>37</td><td>M</td><td>0.8108108108108109</td><td>Pear</td></tr><tr><td>10</td><td>32</td><td>39</td><td>M</td><td>0.8205128205128205</td><td>Pear</td></tr><tr><td>11</td><td>24</td><td>35</td><td>F</td><td>0.6857142857142857</td><td>Pear</td></tr><tr><td>12</td><td>25</td><td>37</td><td>F</td><td>0.6756756756756757</td><td>Pear</td></tr><tr><td>13</td><td>24</td><td>37</td><td>F</td><td>0.6486486486486487</td><td>Pear</td></tr><tr><td>14</td><td>22</td><td>34</td><td>F</td><td>0.6470588235294118</td><td>Pear</td></tr><tr><td>15</td><td>26</td><td>38</td><td>F</td><td>0.6842105263157895</td><td>Pear</td></tr><tr><td>16</td><td>26</td><td>37</td><td>F</td><td>0.7027027027027027</td><td>Pear</td></tr><tr><td>17</td><td>25</td><td>38</td><td>F</td><td>0.6578947368421053</td><td>Pear</td></tr><tr><td>18</td><td>26</td><td>37</td><td>F</td><td>0.7027027027027027</td><td>Pear</td></tr><tr><td>19</td><td>28</td><td>40</td><td>F</td><td>0.7</td><td>Pear</td></tr><tr><td>20</td><td>23</td><td>35</td><td>F</td><td>0.6571428571428571</td><td>Pear</td></tr></table>"
      ],
      "text/plain": [
       "<IPython.core.display.HTML object>"
      ]
     },
     "metadata": {},
     "output_type": "display_data"
    }
   ],
   "source": [
    "# Goal: pretty print the rows as an HTML table\n",
    "\n",
    "# Note: this works, but we can do this much better with pandas\n",
    "\n",
    "html_table = '<table><tr><th>'\n",
    "    # html_table is a function to create a table \n",
    "    # \"<table> --> make a talbe, <tr> --> defines row in a table, <th> --> defines header cell in table\"\n",
    "    # make a table, where the following row is a header\n",
    "    \n",
    "html_table += \"</th><th>\".join(rows[0])\n",
    "    # the table above is table above + column name in our list rows (.join() --> join it together - give it names)\n",
    "    # \"</th><th>\" ? --> end the header make a header? --> make every element a seperate header\n",
    "    \n",
    "html_table += '</th></tr>'\n",
    "    # table from 2nd line = table from 2nd line + end headers and make rows under it\n",
    "    \n",
    "for row in rows[1:]:\n",
    "    html_table += \"<tr><td>\" # so for that 2nd row under headers fill it with values from rows starting with 2nd element\n",
    "    html_table += \"</td><td>\".join(str(col) for col in row) # I can explain but DON'T UNDERSTAND IT!!\n",
    "    html_table += \"</td></tr>\"\n",
    "html_table += \"</table>\"\n",
    "\n",
    "from IPython.display import HTML, display\n",
    "display(HTML(html_table))\n"
   ]
  },
  {
   "cell_type": "code",
   "execution_count": null,
   "metadata": {},
   "outputs": [],
   "source": []
  },
  {
   "cell_type": "markdown",
   "metadata": {},
   "source": [
    "# Discussion Questions"
   ]
  },
  {
   "cell_type": "markdown",
   "metadata": {},
   "source": [
    "* How long did it take you to figure out how to do a bullet list in Markdown? What other formatting tricks did you try?\n",
    "\n",
    "    Not to long as I heard you say that we have to double click markdown to show the first assigment instructions. \n",
    "    I found a great formatting website: [1]: https://en.support.wordpress.com/markdown-quick-reference/ \n",
    "    I tried: making text italic, bold, make a header, table, insert image, reference source, formulas,...\n",
    "\n",
    "* Was there any code that you thought was particularly elegant? How about cryptic or buggy?\n",
    "    \n",
    "    This was genius: raw_rows = [r.rstrip('\\n').split(',') for r in raw_lines]. \n",
    "    My only question is the reason to use [] brackets. My guess is to contain the for loop within those commands.\n",
    "    \n",
    "    Moreover, while I could explain this code I do not understand how exactly it works. \n",
    "    html_table += \"</td><td>\".join(str(col) for col in row) \n",
    "    html_table += \"</td></tr>\"\n",
    "    html_table += \"</table>\"\n",
    "    \n",
    "    Also if you run the table output 2 times it keeps adding column shape and ratio with its values.\n",
    "    I am not sure why but I am suspecting the last formula.\n",
    "\n",
    "* What does the code `raw_lines = list(f)` in the first code cell do exactly? Where can we learn more about loading files? \n",
    " Why do we bother closing the file at the end of the cell?\n",
    "        \n",
    "        It loads the file into a list of strings, one string per line. --> List(single argument) which \n",
    "        creates a list. Iterable condition is optional (to change over object e.g. float)\n",
    "        We can learn in DataCamp. There is a course about importing data that I am taking. \n",
    "        We close it becasue it's good practice and if you are opening it more than once. \n",
    "        It would be better to use np.loadtext(), np.genfromtxt(), np.recsfromcsv(), or with open (here you don't \n",
    "        need to close file)\n",
    "        \n",
    "        \n",
    "  * In the second code cell, why do we try to clean up the data all at once? Why not just deal with it as raw strings?\n",
    "      \n",
    "      Because that is how we want the data to look like. Otherwise, it wouldn't be presentable and ready for calculations\n",
    "      or addition to column names. \n",
    "      \n",
    "  * What is going on in the line below, also from the second code cell?  \n",
    "  ```raw_rows = [r.rstrip('\\n').split(',') for r in raw_lines]```\n",
    "    \n",
    "    .rstrip method: (\"removes end of the line characters - to the right of the list\"). In this case is /n.\n",
    "    .split method: (\"every time you see a delimiter that seperates the SET of values --> split them up to SUBLISTS\"). \n",
    "    Now the sublists are sperated with [column names],[ID,weight,height,M],[...]. \n",
    "    for r in raw_lines is a loop. It loops the previous commands for every element (sublist) in raw_lines list.\n",
    "    Then we store this in a new variable called raw_rows. \n",
    "    We use [] brackets to embed all. Making sure this only applies to this line and the loop only captures previous             commands.\n",
    "    \n",
    "  * What does this do?  \n",
    "  ```for raw_row in raw_rows[1:]:```\n",
    "      \n",
    "      For every element in raw_rows list: do the following bellow BUT start with the 2nd element. In this case exclude\n",
    "      column names.\n",
    "      \n",
    "  * In the third code cell, a list is extended by another list. What does that mean and how is that different from appending list items to the list? How could we do the same thing using `append()`?\n",
    "      \n",
    "      The row here is a variable from for the loop. The short-hand means, a += b is for a = a + b.\n",
    "      Meaning: each row element (start with 2nd one)= row element(2nd...) + calculations for w2h ratio and shape.\n",
    "      That gives us: [column names e.g. ratio, shape] [1, 30,32,M,ratio calc, Apple/pear]...\n",
    "      \n",
    "      It's different from append becasue it assigns the for loop variable and doesn't need specifications on where to\n",
    "      append. \n",
    "      With append we would do: row[0].append(\"w2h_ratio\", \"shape\")\n",
    "      \n",
    "  * When might the calculation\n",
    "  ```w2h_ratio = row[1]/row[2]``` give inaccurate results?\n",
    "      \n",
    "      If we didn't create sublists and exclude the first row[0]. "
   ]
  }
 ],
 "metadata": {
  "kernelspec": {
   "display_name": "Python 3",
   "language": "python",
   "name": "python3"
  },
  "language_info": {
   "codemirror_mode": {
    "name": "ipython",
    "version": 3
   },
   "file_extension": ".py",
   "mimetype": "text/x-python",
   "name": "python",
   "nbconvert_exporter": "python",
   "pygments_lexer": "ipython3",
   "version": "3.6.7"
  }
 },
 "nbformat": 4,
 "nbformat_minor": 2
}
